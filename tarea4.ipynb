{
 "cells": [
  {
   "cell_type": "code",
   "execution_count": 4,
   "metadata": {},
   "outputs": [
    {
     "data": {
      "text/plain": [
       "(454.5259686065434,\n",
       " 2.167117472821888,\n",
       " (-7611.291191531288, 8520.343128744375),\n",
       " (-22.35965042449887, 26.69388537014265))"
      ]
     },
     "execution_count": 4,
     "metadata": {},
     "output_type": "execute_result"
    }
   ],
   "source": [
    "# PROBLEMA 1\n",
    "\n",
    "import numpy as np\n",
    "import scipy.optimize as opt\n",
    "\n",
    "x = np.array([3.8058516, 4.19437519, 1.37709166, 0.77009889, 5.20968912, 0.65358179, 3.9701773, 2.07495512, \n",
    "              3.02571317, 3.1321825, 3.10005197, 4.94755324, 2.26160675, 0.59817735, 1.19183984, 1.37467926, \n",
    "              -0.61701765, 5.01024433, 3.13300185, 5.2957513, 5.49070323, -1.13532482, -0.34934039, 5.72120588, \n",
    "              1.23276086, 4.33202401, 4.00250539, -0.40665993, 1.05709082, 3.68821387, 1.12295318, 2.10739471, \n",
    "              0.53197551, -0.27389039, 1.48139076, 0.70014346, 2.31649553, 2.44322569, 3.86141784, 2.04558533, \n",
    "              2.98230541, 3.69456416, 2.35192256, 0.11488102, 1.24948211, 2.34006925, 1.45962495, -0.09042347, \n",
    "              -0.05130358, 1.15963357, 0.56871108, 2.70715761, 2.47673624, 1.70400014, 1.60709535, -0.40534576, \n",
    "              3.07910114, 0.80967033, 5.04007949, 0.11755631, 1.427098, -0.07170736, 5.11381387, 3.54324208, \n",
    "              4.39654794, 0.10687046, 2.89288521, 4.23476606, 1.54499074, 2.68598353, -1.02087514, 1.9960533, \n",
    "              5.24364406, 3.2185187, -0.38242978, 3.49462381, 1.06077727, -0.02623431, 3.92295454, 1.48746264, \n",
    "              2.74412523, -0.29060423, 3.915251, 3.13072888, 3.78471126, -0.26904523, 0.66725871, 2.75931047, \n",
    "              2.09460576, 1.15288733, 3.08004069, 2.51581013, 1.88470954, 3.18040196, 0.85962888, -0.2126045, \n",
    "              3.2505909, 2.7800464, 1.41144019, 2.71715232])\n",
    "\n",
    "def log_verosimilitud(params, datos):\n",
    "    a, b = params\n",
    "    return -np.sum(np.log(1 + np.cos((datos - b) / a)))\n",
    "\n",
    "resultado = opt.minimize(log_verosimilitud, x0=[1, 0], args=(x,), bounds=[(0.1, None), (-np.pi, np.pi)])\n",
    "\n",
    "a_est, b_est = resultado.x\n",
    "hess_inv = resultado.hess_inv.todense()\n",
    "\n",
    "se_a = np.sqrt(hess_inv[0, 0])\n",
    "se_b = np.sqrt(hess_inv[1, 1])\n",
    "\n",
    "z = 1.96\n",
    "ic_a = (a_est - z * se_a, a_est + z * se_a)\n",
    "ic_b = (b_est - z * se_b, b_est + z * se_b)\n",
    "\n",
    "a_est, b_est, ic_a, ic_b\n"
   ]
  },
  {
   "cell_type": "code",
   "execution_count": 12,
   "metadata": {},
   "outputs": [
    {
     "name": "stdout",
     "output_type": "stream",
     "text": [
      "mu 2.13\n",
      "95% confidence interval [ 1.795 , 2.473 ]\n"
     ]
    }
   ],
   "source": [
    "# PROBLEMA 2\n",
    "\n",
    "import numpy as np\n",
    "from scipy.stats import t\n",
    "\n",
    "sample_size = len(x)\n",
    "estimated_mean = np.mean(x)\n",
    "std_dev = np.std(x, ddof=1)\n",
    "t_value = t.ppf(0.975, df=sample_size - 1)\n",
    "standard_error = std_dev / np.sqrt(sample_size)\n",
    "\n",
    "confidence_lower = estimated_mean - t_value * standard_error\n",
    "confidence_upper = estimated_mean + t_value * standard_error\n",
    "\n",
    "print('mu', round(estimated_mean,2))\n",
    "print('95% confidence interval [', round(confidence_lower,3),',', round(confidence_upper,3),']')\n"
   ]
  },
  {
   "cell_type": "code",
   "execution_count": 22,
   "metadata": {},
   "outputs": [
    {
     "name": "stdout",
     "output_type": "stream",
     "text": [
      "Confidence interval: (0.72138, 11.69251)\n",
      "Variance ratio: 2.904\n"
     ]
    }
   ],
   "source": [
    "# PROBLEMA 3\n",
    " \n",
    "import scipy.stats as s\n",
    "\n",
    "var1 = 0.273\n",
    "var2 = 0.094\n",
    "ratio = var1 / var2\n",
    "m1 = 10\n",
    "m2 = 10\n",
    "level = 0.05\n",
    "dfree1 = m1 - 1\n",
    "dfree2 = m2 - 1\n",
    "\n",
    "F_l = s.f.ppf(level / 2, dfree1, dfree2)\n",
    "F_u = s.f.ppf(1 - level / 2, dfree2, dfree1)\n",
    "CI_lower = ratio / F_u\n",
    "CI_upper = ratio / F_l\n",
    "\n",
    "\n",
    "print(f\"Confidence interval: ({CI_lower:.5f}, {CI_upper:.5f})\")\n",
    "print(f\"Variance ratio: {ratio:.3f}\")\n"
   ]
  },
  {
   "cell_type": "code",
   "execution_count": 23,
   "metadata": {},
   "outputs": [
    {
     "data": {
      "text/plain": [
       "(0.6246349332007343, 0.7151241029438441)"
      ]
     },
     "execution_count": 23,
     "metadata": {},
     "output_type": "execute_result"
    }
   ],
   "source": [
    "#PROBLEMA 4\n",
    "\n",
    "import math\n",
    "\n",
    "total_ejecutivos_muestra = 415\n",
    "ejecutivos_que_consideran_flujo_de_caja_importante = 278\n",
    "nivel_confianza = 0.95\n",
    "\n",
    "proporcion_muestra = ejecutivos_que_consideran_flujo_de_caja_importante / total_ejecutivos_muestra\n",
    "z_score = 1.96\n",
    "error_estandar = math.sqrt((proporcion_muestra * (1 - proporcion_muestra)) / total_ejecutivos_muestra)\n",
    "\n",
    "margen_error = z_score * error_estandar\n",
    "limite_inferior = proporcion_muestra - margen_error\n",
    "limite_superior = proporcion_muestra + margen_error\n",
    "\n",
    "intervalo_confianza = (limite_inferior, limite_superior)\n",
    "intervalo_confianza\n"
   ]
  },
  {
   "cell_type": "code",
   "execution_count": 25,
   "metadata": {},
   "outputs": [
    {
     "name": "stdout",
     "output_type": "stream",
     "text": [
      "Para Y = 0, el valor de p que maximiza la probabilidad es 0.25\n",
      "Para Y = 1, el valor de p que maximiza la probabilidad es 0.75\n",
      "Para Y = 2, el valor de p que maximiza la probabilidad es 0.75\n"
     ]
    }
   ],
   "source": [
    "# PROBLEMA 5\n",
    "\n",
    "from math import comb\n",
    "\n",
    "def probabilidad_y_y(p, y):\n",
    "    return comb(2, y) * (p**y) * ((1 - p)**(2 - y))\n",
    "\n",
    "def maximiza_probabilidad_y(p1, p2):\n",
    "    resultados = []\n",
    "    for y in range(3):\n",
    "        probabilidad_y_p1 = probabilidad_y_y(p1, y)\n",
    "        probabilidad_y_p2 = probabilidad_y_y(p2, y)\n",
    "        \n",
    "        if probabilidad_y_p1 > probabilidad_y_p2:\n",
    "            resultados.append((y, p1))\n",
    "        else:\n",
    "            resultados.append((y, p2))\n",
    "    return resultados\n",
    "\n",
    "probabilidades_posibles_p = [1/4, 3/4]\n",
    "resultados_finales = maximiza_probabilidad_y(probabilidades_posibles_p[0], probabilidades_posibles_p[1])\n",
    "\n",
    "for resultado in resultados_finales:\n",
    "    print(f\"Para Y = {resultado[0]}, el valor de p que maximiza la probabilidad es {resultado[1]}\")\n"
   ]
  },
  {
   "cell_type": "code",
   "execution_count": 32,
   "metadata": {},
   "outputs": [
    {
     "data": {
      "text/plain": [
       "((0.05217724279881919, 'No rechazar H0'),\n",
       " (0.054833509198952246, 'No rechazar H0'),\n",
       " (0.0014148534364044618, 'Rechazar H0'))"
      ]
     },
     "execution_count": 32,
     "metadata": {},
     "output_type": "execute_result"
    }
   ],
   "source": [
    "#PROBLEMA 6\n",
    "\n",
    "import scipy.stats as stats\n",
    "import numpy as np\n",
    "\n",
    "n_escuela_1 = 10\n",
    "promedio_escuela_1 = 60\n",
    "suma_cuadrados_escuela_1 = 36950\n",
    "s_1_cuadrado = (suma_cuadrados_escuela_1 - (promedio_escuela_1**2 * n_escuela_1)) / (n_escuela_1 - 1)\n",
    "\n",
    "n_escuela_2 = 10\n",
    "promedio_escuela_2 = 50\n",
    "suma_cuadrados_escuela_2 = 25850\n",
    "s_2_cuadrado = (suma_cuadrados_escuela_2 - (promedio_escuela_2**2 * n_escuela_2)) / (n_escuela_2 - 1)\n",
    "\n",
    "n_escuela_3 = 10\n",
    "promedio_escuela_3 = 70\n",
    "suma_cuadrados_escuela_3 = 49900\n",
    "s_3_cuadrado = (suma_cuadrados_escuela_3 - (promedio_escuela_3**2 * n_escuela_3)) / (n_escuela_3 - 1)\n",
    "\n",
    "nivel_significancia = 0.05\n",
    "\n",
    "# Comparación entre Escuela 1 y Escuela 2\n",
    "t_escuela_1_escuela_2 = (promedio_escuela_1 - promedio_escuela_2) / np.sqrt((s_1_cuadrado / n_escuela_1) + (s_2_cuadrado / n_escuela_2))\n",
    "df_escuela_1_escuela_2 = min(n_escuela_1 - 1, n_escuela_2 - 1)\n",
    "valor_p_escuela_1_escuela_2 = 2 * (1 - stats.t.cdf(abs(t_escuela_1_escuela_2), df_escuela_1_escuela_2))\n",
    "\n",
    "# Comparación entre Escuela 1 y Escuela 3\n",
    "t_escuela_1_escuela_3 = (promedio_escuela_1 - promedio_escuela_3) / np.sqrt((s_1_cuadrado / n_escuela_1) + (s_3_cuadrado / n_escuela_3))\n",
    "df_escuela_1_escuela_3 = min(n_escuela_1 - 1, n_escuela_3 - 1)\n",
    "valor_p_escuela_1_escuela_3 = 2 * (1 - stats.t.cdf(abs(t_escuela_1_escuela_3), df_escuela_1_escuela_3))\n",
    "\n",
    "# Comparación entre Escuela 2 y Escuela 3\n",
    "t_escuela_2_escuela_3 = (promedio_escuela_2 - promedio_escuela_3) / np.sqrt((s_2_cuadrado / n_escuela_2) + (s_3_cuadrado / n_escuela_3))\n",
    "df_escuela_2_escuela_3 = min(n_escuela_2 - 1, n_escuela_3 - 1)\n",
    "valor_p_escuela_2_escuela_3 = 2 * (1 - stats.t.cdf(abs(t_escuela_2_escuela_3), df_escuela_2_escuela_3))\n",
    "\n",
    "resultado_escuela_1_escuela_2 = \"Rechazar H0\" if valor_p_escuela_1_escuela_2 < nivel_significancia else \"No rechazar H0\"\n",
    "resultado_escuela_1_escuela_3 = \"Rechazar H0\" if valor_p_escuela_1_escuela_3 < nivel_significancia else \"No rechazar H0\"\n",
    "resultado_escuela_2_escuela_3 = \"Rechazar H0\" if valor_p_escuela_2_escuela_3 < nivel_significancia else \"No rechazar H0\"\n",
    "\n",
    "(valor_p_escuela_1_escuela_2, resultado_escuela_1_escuela_2), (valor_p_escuela_1_escuela_3, resultado_escuela_1_escuela_3), (valor_p_escuela_2_escuela_3, resultado_escuela_2_escuela_3)\n"
   ]
  },
  {
   "cell_type": "code",
   "execution_count": 36,
   "metadata": {},
   "outputs": [
    {
     "name": "stdout",
     "output_type": "stream",
     "text": [
      "Estadística t: -2.6344668509493046\n",
      "Valor p: 0.02393221723250802 Rechazamos H0\n",
      "Intervalo de confianza del 90% para la diferencia de medias: (-7.649302571422986, -1.434030761910357)\n"
     ]
    }
   ],
   "source": [
    "# PROBLEMA 7\n",
    "\n",
    "import numpy as np\n",
    "from scipy import stats\n",
    "\n",
    "tipo_A = np.array([72, 78, 73, 69, 75, 74, 69, 75])\n",
    "tipo_B = np.array([78, 76, 81, 74, 82, 75])\n",
    "media_A = np.mean(tipo_A)\n",
    "media_B = np.mean(tipo_B)\n",
    "desviacion_A = np.std(tipo_A, ddof=1)\n",
    "desviacion_B = np.std(tipo_B, ddof=1)\n",
    "\n",
    "n_A = len(tipo_A)\n",
    "n_B = len(tipo_B)\n",
    "\n",
    "t_statistic = (media_A - media_B) / np.sqrt((desviacion_A**2 / n_A) + (desviacion_B**2 / n_B))\n",
    "\n",
    "df = ((desviacion_A**2 / n_A + desviacion_B**2 / n_B)**2) / (\n",
    "    ((desviacion_A**2 / n_A)**2) / (n_A - 1) + ((desviacion_B**2 / n_B)**2) / (n_B - 1))\n",
    "\n",
    "p_value = 2 * stats.t.cdf(-abs(t_statistic), df)\n",
    "\n",
    "print(f\"Estadística t: {t_statistic}\")\n",
    "print(f\"Valor p: {p_value}\",'Rechazamos H0')\n",
    "\n",
    "alpha = 0.10\n",
    "t_critical = stats.t.ppf(1 - alpha/2, df)\n",
    "\n",
    "intervalo_inferior = (media_A - media_B) - t_critical * np.sqrt((desviacion_A**2 / n_A) + (desviacion_B**2 / n_B))\n",
    "intervalo_superior = (media_A - media_B) + t_critical * np.sqrt((desviacion_A**2 / n_A) + (desviacion_B**2 / n_B))\n",
    "\n",
    "print(f\"Intervalo de confianza del 90% para la diferencia de medias: ({intervalo_inferior}, {intervalo_superior})\")\n"
   ]
  },
  {
   "cell_type": "code",
   "execution_count": 38,
   "metadata": {},
   "outputs": [
    {
     "name": "stdout",
     "output_type": "stream",
     "text": [
      "Media de A: 1.24\n",
      "Media de B: 0.98\n",
      "Desviación estándar de A: 0.06\n",
      "Desviación estándar de B: 0.05\n",
      "Valor t: 9.564\n",
      "Valor p: 0.000\n",
      "Rechazamos la H0: Sí existe diferencia\n"
     ]
    }
   ],
   "source": [
    "# PROBLEMA 8\n",
    "\n",
    "import numpy as np\n",
    "from scipy import stats\n",
    "\n",
    "material_a = np.array([1.25, 1.16, 1.33, 1.15, 1.23, 1.20, 1.32, 1.28, 1.21])\n",
    "material_b = np.array([0.89, 1.01, 0.97, 0.95, 0.94, 1.02, 0.98, 1.06, 0.98])\n",
    "\n",
    "mean_a = np.mean(material_a)\n",
    "mean_b = np.mean(material_b)\n",
    "std_a = np.std(material_a, ddof=1)\n",
    "std_b = np.std(material_b, ddof=1)\n",
    "n_a = len(material_a)\n",
    "n_b = len(material_b)\n",
    "\n",
    "t_stat, p_value = stats.ttest_ind(material_a, material_b, equal_var=False)\n",
    "\n",
    "print(f\"Media de A: {mean_a:.2f}\")\n",
    "print(f\"Media de B: {mean_b:.2f}\")\n",
    "print(f\"Desviación estándar de A: {std_a:.2f}\")\n",
    "print(f\"Desviación estándar de B: {std_b:.2f}\")\n",
    "print(f\"Valor t: {t_stat:.3f}\")\n",
    "print(f\"Valor p: {p_value:.3f}\")\n",
    "\n",
    "alpha = 0.10\n",
    "if p_value < alpha:\n",
    "    print(\"Rechazamos la H0: Sí existe diferencia\")\n",
    "else:\n",
    "    print(\"No rechazamos H0: No existe una diferencia significativa en las resistencias medias.\")"
   ]
  },
  {
   "cell_type": "code",
   "execution_count": 43,
   "metadata": {},
   "outputs": [
    {
     "name": "stdout",
     "output_type": "stream",
     "text": [
      "0.8914018631719388 4.817770069955911 2.4469118511449692 0.002946769695082896\n",
      "si dan evidencia y si ponemos alpha = 0.05 igualmente darían evidencia\n"
     ]
    }
   ],
   "source": [
    "# PROBLEMA 9\n",
    "\n",
    "import numpy as np\n",
    "from scipy.stats import pearsonr, t\n",
    "\n",
    "x = np.array([89, 93, 87, 90, 89, 95, 100, 98])\n",
    "y = np.array([13.0, 13.2, 13.0, 13.6, 13.3, 13.8, 14.1, 14.0])\n",
    "\n",
    "r, _ = pearsonr(x, y)\n",
    "\n",
    "n = len(x)\n",
    "t_stat = r * np.sqrt(n - 2) / np.sqrt(1 - r**2)\n",
    "\n",
    "df = n - 2\n",
    "t_critical = t.ppf(1 - 0.025, df)\n",
    "\n",
    "p_value = 2 * (1 - t.cdf(abs(t_stat), df))\n",
    "\n",
    "print(r, t_stat, t_critical, p_value)\n",
    "print('si dan evidencia y si ponemos alpha = 0.05 igualmente darían evidencia')\n"
   ]
  },
  {
   "cell_type": "code",
   "execution_count": 49,
   "metadata": {},
   "outputs": [
    {
     "name": "stdout",
     "output_type": "stream",
     "text": [
      "                            OLS Regression Results                            \n",
      "==============================================================================\n",
      "Dep. Variable:            Rendimiento   R-squared:                       0.971\n",
      "Model:                            OLS   Adj. R-squared:                  0.928\n",
      "Method:                 Least Squares   F-statistic:                     22.56\n",
      "Date:                Mon, 18 Nov 2024   Prob (F-statistic):             0.0428\n",
      "Time:                        23:33:01   Log-Likelihood:                -3.1384\n",
      "No. Observations:                   6   AIC:                             14.28\n",
      "Df Residuals:                       2   BIC:                             13.44\n",
      "Df Model:                           3                                         \n",
      "Covariance Type:            nonrobust                                         \n",
      "========================================================================================\n",
      "                           coef    std err          t      P>|t|      [0.025      0.975]\n",
      "----------------------------------------------------------------------------------------\n",
      "const                   20.3333      2.513      8.091      0.015       9.521      31.146\n",
      "Presion                  0.0333      0.019      1.732      0.225      -0.049       0.116\n",
      "Temperatura             -0.0225      0.025     -0.909      0.459      -0.129       0.084\n",
      "Temperatura_Cuadrada     0.0001   6.12e-05      2.041      0.178      -0.000       0.000\n",
      "==============================================================================\n",
      "Omnibus:                          nan   Durbin-Watson:                   2.750\n",
      "Prob(Omnibus):                    nan   Jarque-Bera (JB):                0.562\n",
      "Skew:                           0.000   Prob(JB):                        0.755\n",
      "Kurtosis:                       1.500   Cond. No.                     4.98e+05\n",
      "==============================================================================\n",
      "\n",
      "Notes:\n",
      "[1] Standard Errors assume that the covariance matrix of the errors is correctly specified.\n",
      "[2] The condition number is large, 4.98e+05. This might indicate that there are\n",
      "strong multicollinearity or other numerical problems.\n"
     ]
    },
    {
     "name": "stderr",
     "output_type": "stream",
     "text": [
      "/Users/kiwi/Library/Python/3.9/lib/python/site-packages/statsmodels/stats/stattools.py:74: ValueWarning: omni_normtest is not valid with less than 8 observations; 6 samples were given.\n",
      "  warn(\"omni_normtest is not valid with less than 8 observations; %i \"\n"
     ]
    }
   ],
   "source": [
    "# PROBLEMA 10 parte 1\n",
    "\n",
    "import numpy as np\n",
    "import pandas as pd\n",
    "import statsmodels.api as sm\n",
    "import statsmodels.formula.api as smf\n",
    "data = {\n",
    "    'Presion': [50, 50, 50, 80, 80, 80],\n",
    "    'Temperatura': [100, 200, 300, 100, 200, 300],\n",
    "    'Rendimiento': [21, 23, 26, 22, 23, 28]}\n",
    "df = pd.DataFrame(data)\n",
    "df['Temperatura_Cuadrada'] = df['Temperatura'] ** 2\n",
    "# Y = beta0 + beta1*Presion + beta2*Temperatura + beta3*Temperatura^2\n",
    "X = df[['Presion', 'Temperatura', 'Temperatura_Cuadrada']]\n",
    "X = sm.add_constant(X)  # Agregar constante (beta0)\n",
    "y = df['Rendimiento']\n",
    "modelo = sm.OLS(y, X).fit()\n",
    "print(modelo.summary())"
   ]
  },
  {
   "cell_type": "code",
   "execution_count": 55,
   "metadata": {},
   "outputs": [
    {
     "name": "stdout",
     "output_type": "stream",
     "text": [
      "# a) Los coeficientes del modelo son: beta0 = 20.3333, beta1 = 0.0333, beta2 = -0.0225, beta3 = 0.0001.\n",
      "# b) El valor p asociado con beta3 es 0.178. Como es mayor que 0.05, no rechazamos la hipótesis nula de que beta3 = 0.\n",
      "# c) El valor p asociado con beta2 es 0.459. Como es mayor que 0.05, tampoco rechazamos la hipótesis nula de que beta2 = 0, entonces la temperatura no afecta significativamente el rendimiento.\n"
     ]
    }
   ],
   "source": [
    "# PROBLEMA 10 parte 2\n",
    "\n",
    "print(\"# a) Los coeficientes del modelo son: beta0 = 20.3333, beta1 = 0.0333, beta2 = -0.0225, beta3 = 0.0001.\")\n",
    "print(\"# b) El valor p asociado con beta3 es 0.178. Como es mayor que 0.05, no rechazamos la hipótesis nula de que beta3 = 0.\")\n",
    "print(\"# c) El valor p asociado con beta2 es 0.459. Como es mayor que 0.05, tampoco rechazamos la hipótesis nula de que beta2 = 0, entonces la temperatura no afecta significativamente el rendimiento.\")\n"
   ]
  },
  {
   "cell_type": "code",
   "execution_count": 65,
   "metadata": {},
   "outputs": [
    {
     "name": "stdout",
     "output_type": "stream",
     "text": [
      "                            OLS Regression Results                            \n",
      "==============================================================================\n",
      "Dep. Variable:                      Y   R-squared:                       0.975\n",
      "Model:                            OLS   Adj. R-squared:                  0.963\n",
      "Method:                 Least Squares   F-statistic:                     79.15\n",
      "Date:                Mon, 18 Nov 2024   Prob (F-statistic):           3.24e-05\n",
      "Time:                        23:46:18   Log-Likelihood:                -1.1098\n",
      "No. Observations:                  10   AIC:                             10.22\n",
      "Df Residuals:                       6   BIC:                             11.43\n",
      "Df Model:                           3                                         \n",
      "Covariance Type:            nonrobust                                         \n",
      "==============================================================================\n",
      "                 coef    std err          t      P>|t|      [0.025      0.975]\n",
      "------------------------------------------------------------------------------\n",
      "const          9.3400      0.156     59.834      0.000       8.958       9.722\n",
      "x1             2.4600      0.221     11.144      0.000       1.920       3.000\n",
      "x2             0.6000      0.110      5.436      0.002       0.330       0.870\n",
      "x1_x2          0.4100      0.156      2.627      0.039       0.028       0.792\n",
      "==============================================================================\n",
      "Omnibus:                        0.677   Durbin-Watson:                   3.696\n",
      "Prob(Omnibus):                  0.713   Jarque-Bera (JB):                0.572\n",
      "Skew:                          -0.182   Prob(JB):                        0.751\n",
      "Kurtosis:                       1.886   Cond. No.                         3.70\n",
      "==============================================================================\n",
      "\n",
      "Notes:\n",
      "[1] Standard Errors assume that the covariance matrix of the errors is correctly specified.\n"
     ]
    },
    {
     "name": "stderr",
     "output_type": "stream",
     "text": [
      "/Users/kiwi/Library/Python/3.9/lib/python/site-packages/scipy/stats/_axis_nan_policy.py:531: UserWarning: kurtosistest only valid for n>=20 ... continuing anyway, n=10\n",
      "  res = hypotest_fun_out(*samples, **kwds)\n"
     ]
    },
    {
     "data": {
      "image/png": "[encoded data removed]",
      "text/plain": [
       "<Figure size 1000x800 with 1 Axes>"
      ]
     },
     "metadata": {},
     "output_type": "display_data"
    },
    {
     "name": "stdout",
     "output_type": "stream",
     "text": [
      "Predicción de crecimiento para la bacteria A en x2=0: 9.34\n",
      "Predicción de crecimiento para la bacteria B en x2=0: 11.80\n",
      "c) La predicción y la gráfica son cercanas\n",
      "d) Existen diferencias significativas en los porcentajes de crecimiento entre las bacterias.\n"
     ]
    }
   ],
   "source": [
    "import numpy as np\n",
    "import pandas as pd\n",
    "import statsmodels.api as sm\n",
    "import seaborn as sns\n",
    "import matplotlib.pyplot as plt\n",
    "\n",
    "tiempo_codificado = np.array([-2, -1, 0, 1, 2])\n",
    "crecimiento_A = np.array([8.0, 9.0, 9.1, 10.2, 10.4])\n",
    "crecimiento_B = np.array([10.0, 10.3, 12.2, 12.6, 13.9])\n",
    "\n",
    "data = pd.DataFrame({\n",
    "    'x2': np.concatenate([tiempo_codificado, tiempo_codificado]),\n",
    "    'Y': np.concatenate([crecimiento_A, crecimiento_B]),\n",
    "    'x1': np.concatenate([np.zeros(5), np.ones(5)]),\n",
    "    'x1_x2': np.concatenate([np.zeros(5), tiempo_codificado])\n",
    "})\n",
    "\n",
    "X = data[['x1', 'x2', 'x1_x2']]\n",
    "X = sm.add_constant(X)\n",
    "y = data['Y']\n",
    "\n",
    "modelo = sm.OLS(y, X).fit()\n",
    "print(modelo.summary())\n",
    "\n",
    "data['predicciones'] = modelo.predict(X)\n",
    "\n",
    "sns.set(style=\"white\", palette=\"dark\", font_scale=1.5)\n",
    "\n",
    "plt.figure(figsize=(10, 8))\n",
    "\n",
    "sns.scatterplot(x='x2', y='Y', data=data[data['x1'] == 0], color='pink', s=150, marker='P', label='A')\n",
    "sns.scatterplot(x='x2', y='Y', data=data[data['x1'] == 1], color='black', s=150, marker='P', label='B')\n",
    "\n",
    "sns.lineplot(x='x2', y='predicciones', data=data[data['x1'] == 0], color='pink', linestyle='-', linewidth=2)\n",
    "sns.lineplot(x='x2', y='predicciones', data=data[data['x1'] == 1], color='black', linestyle='-', linewidth=2)\n",
    "\n",
    "plt.title('Bacterias A y B y su crecimiento', fontsize=20, fontweight='bold', color='black')\n",
    "plt.xlabel('Tiempo', fontsize=15)\n",
    "plt.ylabel('Crecimiento', fontsize=15)\n",
    "plt.legend(title=\"Bacteria\", fontsize=12, title_fontsize='13')\n",
    "plt.xticks(fontsize=12)\n",
    "plt.yticks(fontsize=12)\n",
    "\n",
    "plt.show()\n",
    "\n",
    "x2_valor = 0\n",
    "\n",
    "X_A = np.array([1, 0, x2_valor, 0])\n",
    "Y_A_pred = modelo.predict(X_A.reshape(1, -1))\n",
    "\n",
    "X_B = np.array([1, 1, x2_valor, x2_valor])\n",
    "Y_B_pred = modelo.predict(X_B.reshape(1, -1))\n",
    "\n",
    "print(f'Predicción de crecimiento para la bacteria A en x2=0: {Y_A_pred[0]:.2f}')\n",
    "print(f'Predicción de crecimiento para la bacteria B en x2=0: {Y_B_pred[0]:.2f}')\n",
    "print('c) La predicción y la gráfica son cercanas')\n",
    "\n",
    "import numpy as np\n",
    "import pandas as pd\n",
    "import statsmodels.api as sm\n",
    "\n",
    "tiempo_codificado = np.array([-2, -1, 0, 1, 2])\n",
    "crecimiento_A = np.array([8.0, 9.0, 9.1, 10.2, 10.4])\n",
    "crecimiento_B = np.array([10.0, 10.3, 12.2, 12.6, 13.9])\n",
    "\n",
    "data = pd.DataFrame({\n",
    "    'x2': np.concatenate([tiempo_codificado, tiempo_codificado]),\n",
    "    'Y': np.concatenate([crecimiento_A, crecimiento_B]),\n",
    "    'x1': np.concatenate([np.zeros(5), np.ones(5)]),\n",
    "    'x1_x2': np.concatenate([np.zeros(5), tiempo_codificado])\n",
    "})\n",
    "\n",
    "X = data[['x1', 'x2', 'x1_x2']]\n",
    "X = sm.add_constant(X)\n",
    "y = data['Y']\n",
    "\n",
    "modelo = sm.OLS(y, X).fit()\n",
    "\n",
    "p_valor_beta1 = modelo.pvalues['x1']\n",
    "p_valor_beta3 = modelo.pvalues['x1_x2']\n",
    "\n",
    "alpha = 0.05\n",
    "\n",
    "if p_valor_beta1 < alpha or p_valor_beta3 < alpha:\n",
    "    print(\"d) Existen diferencias significativas en los porcentajes de crecimiento entre las bacterias.\")\n",
    "else:\n",
    "    print(\"d) No existen diferencias significativas en los porcentajes de crecimiento entre las bacterias.\")\n"
   ]
  },
  {
   "cell_type": "code",
   "execution_count": null,
   "metadata": {},
   "outputs": [],
   "source": []
  }
 ],
 "metadata": {
  "kernelspec": {
   "display_name": "Python 3",
   "language": "python",
   "name": "python3"
  },
  "language_info": {
   "codemirror_mode": {
    "name": "ipython",
    "version": 3
   },
   "file_extension": ".py",
   "mimetype": "text/x-python",
   "name": "python",
   "nbconvert_exporter": "python",
   "pygments_lexer": "ipython3",
   "version": "3.9.6"
  }
 },
 "nbformat": 4,
 "nbformat_minor": 2
}
